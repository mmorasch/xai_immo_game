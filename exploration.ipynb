{
 "cells": [
  {
   "cell_type": "code",
   "execution_count": 2,
   "metadata": {},
   "outputs": [],
   "source": [
    "import pandas as pd\n",
    "import numpy as np\n",
    "%matplotlib inline\n",
    "import matplotlib.pyplot as plt"
   ]
  },
  {
   "cell_type": "code",
   "execution_count": null,
   "metadata": {},
   "outputs": [],
   "source": [
    "df = pd.read_csv('./immo_data.csv')\n",
    "print(df.shape)\n",
    "print(df.columns)"
   ]
  },
  {
   "cell_type": "code",
   "execution_count": null,
   "metadata": {},
   "outputs": [],
   "source": [
    "df_2 = df.loc[:,['scoutId', 'regio1', 'regio2', 'regio3', 'geo_plz', 'heatingType', 'newlyConst', 'balcony', 'yearConstructed', 'noParkSpaces', 'hasKitchen', 'baseRent', 'livingSpace', 'condition', 'interiorQual', 'petsAllowed', 'lift', 'typeOfFlat', 'noRooms', 'garden', 'facilities', 'lastRefurbish']]\n",
    "df_2 = df_2[df_2.baseRent.between(50,10000, inclusive='neither')]\n",
    "df_2.head(5)"
   ]
  },
  {
   "cell_type": "code",
   "execution_count": null,
   "metadata": {},
   "outputs": [],
   "source": [
    "\n",
    "y = np.log(df_2['baseRent'])\n",
    "x=df_2.copy()\n",
    "x.drop(['baseRent'],axis=1,inplace = True)\n",
    "x.head(10)"
   ]
  },
  {
   "cell_type": "code",
   "execution_count": null,
   "metadata": {},
   "outputs": [],
   "source": [
    "print(df_2[\"condition\"].unique())\n",
    "print(df_2[\"interiorQual\"].unique())\n",
    "print(df_2[\"typeOfFlat\"].unique())\n",
    "print(df_2[\"facilities\"].unique())"
   ]
  },
  {
   "cell_type": "code",
   "execution_count": null,
   "metadata": {},
   "outputs": [],
   "source": [
    "categories = {\n",
    "  \"regio1\": [list(np.sort(df_2['regio1'].unique()))],\n",
    "  \"regio2\": [list(np.sort(df_2['regio2'].unique()))],\n",
    "  \"regio3\": [list(np.sort(df_2['regio3'].unique()))],\n",
    "  \"heatingType\": [list(np.sort(df_2['heatingType'].unique()))],\n",
    "  \"condition\": [list(np.sort(df_2['condition'].unique()))],\n",
    "  \"interiorQual\": [list(np.sort(df_2['interiorQual'].unique()))],\n",
    "  \"typeOfFlat\": [list(np.sort(df_2['typeOfFlat'].unique()))],\n",
    "  \"facilities\": [list(np.sort(df_2['facilities'].unique()))]\n",
    "}"
   ]
  },
  {
   "cell_type": "code",
   "execution_count": null,
   "metadata": {},
   "outputs": [],
   "source": [
    "from sklearn.compose import ColumnTransformer\n",
    "from sklearn.preprocessing import OneHotEncoder, OrdinalEncoder\n",
    "\n",
    "preprocessor = ColumnTransformer(\n",
    "    [\n",
    "        ('onehot_regio1', OneHotEncoder(categories=categories[\"regio1\"]), [df_2.index('regio1')]),  # data_columns.bla -> column_name?\n",
    "        ('onehot_regio2', OneHotEncoder(categories=categories[\"regio2\"]), [df_2.index('regio2')]), # data_columns.bla -> column_name?\n",
    "        ('onehot_regio3', OneHotEncoder(categories=categories[\"regio3\"]), [df_2.index('regio3')]), # data_columns.bla -> column_name?\n",
    "        ('onehot_heating_type', OneHotEncoder(categories=categories[\"heatingType\"]), [df_2.index('heatingType')]), # data_columns.bla -> column_name?\n",
    "        ('onehot_condition', OneHotEncoder(categories=categories[\"condition\"]), [df_2.index('condition')]), # data_columns.bla -> column_name?\n",
    "        ('onehot_interiorQual', OneHotEncoder(categories=categories[\"interiorQual\"]), [df_2.index('interiorQual')]), # data_columns.bla -> column_name?\n",
    "        ('onehot_typeOfFlat', OneHotEncoder(categories=categories[\"typeOfFlat\"]), [df_2.index('typeOfFlat')]), # data_columns.bla -> column_name?\n",
    "        ('onehot_facilities', OneHotEncoder(categories=categories[\"facilities\"]), [df_2.index('facilities')]), # data_columns.bla -> column_name?\n",
    "        ('scaler', StandardScaler(), [data_columns.index(col) for col in standard_scaler_col_list])\n",
    "    ],\n",
    "    remainder='drop'\n",
    ")"
   ]
  },
  {
   "cell_type": "code",
   "execution_count": null,
   "metadata": {},
   "outputs": [],
   "source": [
    "from sklearn.model_selection import train_test_split\n",
    "\n",
    "X_train, X_test, y_train, y_test = train_test_split(x, y, test_size=0.30, \n",
    "                                                    random_state=1)\n",
    "X_train"
   ]
  },
  {
   "cell_type": "code",
   "execution_count": null,
   "metadata": {},
   "outputs": [],
   "source": [
    "from sklearn.ensemble import GradientBoostingRegressor\n",
    "\n",
    "#Best hyperparameters from Random Search:\n",
    "#maxdepth: 16, minsamleaf: 117, n: 73, maxfeat: 10, lr: 0.07\n",
    "def gradientboostingmachine(md, msl, n, mf, lr, xtrain, ytrain, xtest, ytest):\n",
    "    gbm_best = GradientBoostingRegressor(n_estimators=n, random_state=1111,\n",
    "                                         max_depth=md, max_features=mf, \n",
    "                                         min_samples_leaf=msl, learning_rate=lr\n",
    "                                         )\n",
    "    gbm_best.fit(xtrain, ytrain)\n",
    "    y_pred_gbm = gbm_best.predict(xtest)\n",
    "    \n",
    "        \n",
    "    #Saving the model\n",
    "    Pkl_Filename = \"GB_Model.pkl\"  \n",
    "    with open(Pkl_Filename, 'wb') as file:  \n",
    "        pickle.dump(gbm_best, file)\n",
    "        \n",
    "    print('MAE:', metrics.mean_absolute_error(ytest, y_pred_gbm))\n",
    "    print('MSE:', metrics.mean_squared_error(ytest, y_pred_gbm))\n",
    "    print('R2_score:', metrics.r2_score(ytest, y_pred_gbm))\n",
    "\n",
    "    plt.scatter(y_pred_gbm,ytest)\n",
    "    plt.xlabel('predicted value of y')\n",
    "    plt.ylabel('y')\n",
    "    plt.figure()\n",
    "gradientboostingmachine(16, 117, 73, 10, 0.07, X_train, y_train, X_test, y_test) "
   ]
  }
 ],
 "metadata": {
  "kernelspec": {
   "display_name": "Python 3",
   "language": "python",
   "name": "python3"
  },
  "language_info": {
   "codemirror_mode": {
    "name": "ipython",
    "version": 3
   },
   "file_extension": ".py",
   "mimetype": "text/x-python",
   "name": "python",
   "nbconvert_exporter": "python",
   "pygments_lexer": "ipython3",
   "version": "3.11.5"
  },
  "orig_nbformat": 4
 },
 "nbformat": 4,
 "nbformat_minor": 2
}
